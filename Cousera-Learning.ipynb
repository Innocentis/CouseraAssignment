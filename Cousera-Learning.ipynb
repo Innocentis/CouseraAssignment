{
 "cells": [
  {
   "cell_type": "markdown",
   "metadata": {
    "collapsed": true
   },
   "source": [
    "# My Jupiter Notebook on IBM Watson Studio"
   ]
  },
  {
   "cell_type": "markdown",
   "metadata": {},
   "source": [
    "Alexander\n",
    "Looking for work"
   ]
  },
  {
   "cell_type": "markdown",
   "metadata": {},
   "source": [
    "<i>I want to learn new skills</i>."
   ]
  },
  {
   "cell_type": "markdown",
   "metadata": {},
   "source": [
    "### My code will print hello world"
   ]
  },
  {
   "cell_type": "code",
   "execution_count": 4,
   "metadata": {},
   "outputs": [
    {
     "name": "stdout",
     "output_type": "stream",
     "text": [
      "Hello World!\n"
     ]
    }
   ],
   "source": [
    "print(\"Hello World!\")"
   ]
  },
  {
   "cell_type": "markdown",
   "metadata": {},
   "source": [
    "# Data Science Languages\n",
    "\n",
    "Here are some popular languages for data science:\n",
    "\n",
    "- Python\n",
    "- R\n",
    "- SQL\n",
    "- Java\n",
    "- Scala\n",
    "- MATLAB\n",
    "- Julia\n",
    "- SAS\n"
   ]
  },
  {
   "cell_type": "markdown",
   "metadata": {},
   "source": [
    "# Data Science Libraries\n",
    "\n",
    "Here are some popular libraries for data science:\n",
    "\n",
    "- NumPy\n",
    "- Pandas\n",
    "- Matplotlib\n",
    "- Seaborn\n",
    "- Scikit-learn\n",
    "- TensorFlow\n",
    "- PyTorch\n",
    "- Keras"
   ]
  },
  {
   "cell_type": "markdown",
   "metadata": {},
   "source": [
    "# Data Science Tools\n",
    "\n",
    "| Category | Tools |\n",
    "| --- | --- |\n",
    "| Data Manipulation | Pandas, dplyr, data.table, tidyverse |\n",
    "| Data Visualization | Matplotlib, Seaborn, ggplot2, Plotly |\n",
    "| Machine Learning | Scikit-learn, TensorFlow, PyTorch, Keras |\n",
    "| Big Data | Hadoop, Spark, Hive, Pig |\n",
    "| Cloud Computing | Amazon Web Services, Google Cloud Platform, Microsoft Azure |\n",
    "| Data Storage | SQL, NoSQL, HDFS, S3 |\n"
   ]
  },
  {
   "cell_type": "markdown",
   "metadata": {},
   "source": [
    "# Arithmetic Expressions\n",
    "\n",
    "Arithmetic expressions are mathematical expressions that involve numerical operations such as addition, subtraction, multiplication, and division. These expressions are commonly used in data science for performing calculations on numerical data.\n",
    "\n",
    "Here are some examples of arithmetic expressions:\n",
    "\n",
    "- `2 + 3`: This expression adds the numbers 2 and 3, and the result is 5.\n",
    "- `4 * 5`: This expression multiplies the numbers 4 and 5, and the result is 20.\n",
    "- `10 / 2`: This expression divides the number 10 by 2, and the result is 5.\n",
    "- `7 - 6`: This expression subtracts the number 6 from 7, and the result is 1."
   ]
  },
  {
   "cell_type": "code",
   "execution_count": 5,
   "metadata": {},
   "outputs": [
    {
     "name": "stdout",
     "output_type": "stream",
     "text": [
      "The product of a and b is: 6\n",
      "The sum of a and b is: 5\n"
     ]
    }
   ],
   "source": [
    "a = 2\n",
    "b = 3\n",
    "c = a * b\n",
    "d = a + b\n",
    "print(\"The product of a and b is:\", c)\n",
    "print(\"The sum of a and b is:\", d)"
   ]
  },
  {
   "cell_type": "code",
   "execution_count": 6,
   "metadata": {},
   "outputs": [
    {
     "name": "stdout",
     "output_type": "stream",
     "text": [
      "90 minutes is equal to 1.5 hours\n"
     ]
    }
   ],
   "source": [
    "minutes = 90\n",
    "hours = minutes / 60\n",
    "print(\"90 minutes is equal to\", hours, \"hours\")"
   ]
  },
  {
   "cell_type": "markdown",
   "metadata": {},
   "source": [
    "\n",
    "A data science course should aim to achieve the following objectives:\n",
    "\n",
    "1. Provide a comprehensive overview of the data science field, including its history, concepts, and techniques.\n",
    "2. Develop skills in data collection, cleaning, and preprocessing using tools such as Python and SQL.\n",
    "3. Introduce statistical and machine learning concepts and techniques for analyzing and modeling data.\n",
    "4. Teach how to communicate insights and results effectively using data visualization and storytelling techniques.\n",
    "5. Expose students to real-world data science challenges and opportunities, such as those in industry, government, and academia.\n",
    "6. Foster a collaborative and ethical approach to data science by emphasizing teamwork, diversity, and responsible data use.\n",
    "\n",
    "By achieving these objectives, students will have a solid foundation in data science that can be applied to various fields such as business, healthcare, finance, and social sciences."
   ]
  },
  {
   "cell_type": "markdown",
   "metadata": {},
   "source": [
    "Author: Alexander\n"
   ]
  },
  {
   "cell_type": "code",
   "execution_count": null,
   "metadata": {},
   "outputs": [],
   "source": []
  },
  {
   "cell_type": "code",
   "execution_count": null,
   "metadata": {},
   "outputs": [],
   "source": []
  }
 ],
 "metadata": {
  "kernelspec": {
   "display_name": "Python 3.10",
   "language": "python",
   "name": "python3"
  },
  "language_info": {
   "codemirror_mode": {
    "name": "ipython",
    "version": 3
   },
   "file_extension": ".py",
   "mimetype": "text/x-python",
   "name": "python",
   "nbconvert_exporter": "python",
   "pygments_lexer": "ipython3",
   "version": "3.10.9"
  }
 },
 "nbformat": 4,
 "nbformat_minor": 1
}
